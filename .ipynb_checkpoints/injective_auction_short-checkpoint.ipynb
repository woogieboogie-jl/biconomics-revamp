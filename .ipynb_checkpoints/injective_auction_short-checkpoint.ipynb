{
 "cells": [
  {
   "cell_type": "code",
   "execution_count": 2,
   "id": "b8db40c8",
   "metadata": {},
   "outputs": [],
   "source": [
    "import pandas as pd\n",
    "\n",
    "# Load the uploaded data files\n",
    "inj_data = pd.read_csv('inj-usd-max.csv')\n",
    "auction_data = pd.read_csv('injective_auction_data.csv')\n",
    "market_cap_data = pd.read_csv('CG_market_cap.csv')\n",
    "\n",
    "# Display the first few rows of each dataframe to understand their structure\n",
    "inj_data_head = inj_data.head()\n",
    "auction_data_head = auction_data.head()\n",
    "market_cap_data_head = market_cap_data.head()\n"
   ]
  },
  {
   "cell_type": "code",
   "execution_count": 3,
   "id": "4f4b30cd",
   "metadata": {},
   "outputs": [],
   "source": [
    "# Cleaning and processing the data\n",
    "\n",
    "# 1. Convert date columns to datetime format and clean auction data\n",
    "inj_data['Unnamed: 0'] = pd.to_datetime(inj_data['Unnamed: 0'], format='%Y-%m-%d %H:%M:%S UTC')\n",
    "auction_data['UTC Timestamp'] = pd.to_datetime(auction_data['UTC Timestamp'], format='%m/%d/%y %H:%M')\n",
    "\n",
    "# Clean up 'INJ Amount' and 'USD Amount' by removing text and converting to floats\n",
    "auction_data['INJ Amount'] = auction_data['INJ Amount'].str.replace(' INJ', '')\n",
    "auction_data['INJ Amount'] = auction_data['INJ Amount'].str.replace(',', '').astype(float)\n",
    "auction_data['USD Amount'] = auction_data['USD Amount'].str.replace(r'[\\$, usd]', '', regex=True).astype(float)\n",
    "\n",
    "# 2. Rename columns for better clarity\n",
    "inj_data.columns = ['Date', 'Price', 'Market Cap']\n",
    "auction_data.columns = ['Date', 'INJ Amount', 'USD Amount']\n",
    "market_cap_data['UTC Time'] = pd.to_datetime(market_cap_data['UTC Time'], format='%m/%d/%y %H:%M')\n",
    "market_cap_data.columns = ['Date', 'Altcoin Market Cap']"
   ]
  },
  {
   "cell_type": "code",
   "execution_count": 4,
   "id": "316ae13e",
   "metadata": {},
   "outputs": [],
   "source": [
    "merged_data = pd.merge(auction_data, inj_data, left_on='Date', right_on='Date', how='left')\n",
    "merged_data['Return (Price)'] = merged_data['Price'].pct_change()\n",
    "merged_data['Return (Market Cap)'] = merged_data['Market Cap'].pct_change()"
   ]
  },
  {
   "cell_type": "code",
   "execution_count": 24,
   "id": "8a4823b7",
   "metadata": {},
   "outputs": [],
   "source": [
    "# Short-Term Event Analysis: Impact of Injective Burn on Short-Term Price Movements\n",
    "\n",
    "# We will perform a paired t-test to compare price returns before and after each burn event.\n",
    "\n",
    "# Defining the window of days around the event (e.g., 7 days before and after the event)\n",
    "\n",
    "\n",
    "def paired_ttest_per_window(window_size):\n",
    "    \n",
    "    # Create empty lists to hold pre-event and post-event returns for each auction\n",
    "    pre_event_returns = []\n",
    "    post_event_returns = []\n",
    "\n",
    "    for idx, row in merged_data.iterrows():\n",
    "        # Find pre-event and post-event returns based on the auction date\n",
    "        auction_date = row['Date']\n",
    "\n",
    "        # Extract the returns before the auction\n",
    "        pre_event_return = inj_data[(inj_data['Date'] < auction_date) & \n",
    "                                    (inj_data['Date'] >= (auction_date - pd.Timedelta(days=window_size)))]['Price'].pct_change().dropna()\n",
    "\n",
    "        # Extract the returns after the auction\n",
    "        post_event_return = inj_data[(inj_data['Date'] > auction_date) & \n",
    "                                     (inj_data['Date'] <= (auction_date + pd.Timedelta(days=window_size)))]['Price'].pct_change().dropna()\n",
    "\n",
    "        # Append the returns to the lists if both pre and post data are available\n",
    "        if not pre_event_return.empty and not post_event_return.empty:\n",
    "            pre_event_returns.append(pre_event_return.mean())\n",
    "            post_event_returns.append(post_event_return.mean())\n",
    "            \n",
    "    return pre_event_returns, post_event_returns\n"
   ]
  },
  {
   "cell_type": "code",
   "execution_count": 32,
   "id": "177e17a7",
   "metadata": {},
   "outputs": [
    {
     "data": {
      "text/plain": [
       "{'2': {-0.7049343641573264, 0.48198971686888215},\n",
       " '3': {-0.37740955689534594, 0.7064249229857029},\n",
       " '4': {-0.3299544561671729, 0.741913885238704},\n",
       " '5': {-0.4852119967969588, 0.6282633354989122},\n",
       " '6': {-0.05210784724532768, 0.9585149752975116},\n",
       " '7': {-0.623166831166178, 0.5341606325442563}}"
      ]
     },
     "execution_count": 32,
     "metadata": {},
     "output_type": "execute_result"
    }
   ],
   "source": [
    "# Perform a paired t-test on pre-event and post-event returns\n",
    "from scipy import stats\n",
    "\n",
    "t_test_results = {}\n",
    "\n",
    "for i in range(2, 8):\n",
    "    pre_event_returns, post_event_returns = paired_ttest_per_window(i)\n",
    "    t_test_results[f'{str(i)}'] = set(stats.ttest_rel(pre_event_returns, post_event_returns))\n",
    "\n",
    "t_test_results"
   ]
  }
 ],
 "metadata": {
  "kernelspec": {
   "display_name": "MyPython",
   "language": "python",
   "name": "py311"
  },
  "language_info": {
   "codemirror_mode": {
    "name": "ipython",
    "version": 3
   },
   "file_extension": ".py",
   "mimetype": "text/x-python",
   "name": "python",
   "nbconvert_exporter": "python",
   "pygments_lexer": "ipython3",
   "version": "3.11.7"
  }
 },
 "nbformat": 4,
 "nbformat_minor": 5
}
